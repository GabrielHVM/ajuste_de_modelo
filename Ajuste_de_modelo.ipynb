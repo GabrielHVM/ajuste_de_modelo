{
  "nbformat": 4,
  "nbformat_minor": 0,
  "metadata": {
    "colab": {
      "name": "Ajuste de modelo.ipynb",
      "provenance": [],
      "collapsed_sections": [
        "MnABbZY9H4v4",
        "E22iK0WRIxjG",
        "Sq4YuCE2IZa4",
        "4kYXhH02ORAu",
        "ctbcDE2LYwkS",
        "eGXrDK6WZZlk",
        "glVFAPqkZzjF",
        "2MD2y3-CaVrq",
        "rBEOZIbKajxt",
        "m5_FiLQwa6Y_",
        "HwzSs88UbJDz",
        "cfiZSP14bVDB",
        "l7HQXGLx1EtZ"
      ],
      "authorship_tag": "ABX9TyMCfuj7Ph39HiI3mqa+3CfJ"
    },
    "kernelspec": {
      "name": "python3",
      "display_name": "Python 3"
    },
    "language_info": {
      "name": "python"
    }
  },
  "cells": [
    {
      "cell_type": "markdown",
      "metadata": {
        "id": "BustNrTHHyU5"
      },
      "source": [
        "# Ajuste de Modelo"
      ]
    },
    {
      "cell_type": "markdown",
      "metadata": {
        "id": "kM4ktM1fH06y"
      },
      "source": [
        "## Importação das bibliotecas utilizadas"
      ]
    },
    {
      "cell_type": "code",
      "metadata": {
        "id": "BgjvhgdSEmNl"
      },
      "source": [
        "import numpy as np\n",
        "import matplotlib.pyplot as plt\n",
        "import pandas\n",
        "from tabulate import tabulate\n",
        "from sklearn import linear_model\n",
        "from sklearn.metrics import r2_score\n",
        "from sklearn.datasets import load_diabetes\n",
        "from statsmodels.stats.diagnostic import normal_ad"
      ],
      "execution_count": 113,
      "outputs": []
    },
    {
      "cell_type": "markdown",
      "metadata": {
        "id": "MnABbZY9H4v4"
      },
      "source": [
        "## Carregamento e organização do conjunto de dados"
      ]
    },
    {
      "cell_type": "code",
      "metadata": {
        "id": "_0nV4br_FUJL"
      },
      "source": [
        "diabetes = load_diabetes()"
      ],
      "execution_count": 114,
      "outputs": []
    },
    {
      "cell_type": "markdown",
      "metadata": {
        "id": "9vPK-9eAIINj"
      },
      "source": [
        "**Instância do Data Frame**"
      ]
    },
    {
      "cell_type": "code",
      "metadata": {
        "id": "F1ljNJYzFdke"
      },
      "source": [
        "tabela = pandas.DataFrame(diabetes.data)\n",
        "tabela.columns = diabetes.feature_names\n",
        "tabela['y'] = diabetes.target"
      ],
      "execution_count": 115,
      "outputs": []
    },
    {
      "cell_type": "markdown",
      "metadata": {
        "id": "CzsvVBtTIL0q"
      },
      "source": [
        "**Visualização dos dados em uma tabela**"
      ]
    },
    {
      "cell_type": "code",
      "metadata": {
        "colab": {
          "base_uri": "https://localhost:8080/",
          "height": 0
        },
        "id": "Kd-wuDhCIF9s",
        "outputId": "8440fb97-0aac-4a9c-eb47-e6feb568c5a1"
      },
      "source": [
        "tabela.head()"
      ],
      "execution_count": 116,
      "outputs": [
        {
          "output_type": "execute_result",
          "data": {
            "text/html": [
              "<div>\n",
              "<style scoped>\n",
              "    .dataframe tbody tr th:only-of-type {\n",
              "        vertical-align: middle;\n",
              "    }\n",
              "\n",
              "    .dataframe tbody tr th {\n",
              "        vertical-align: top;\n",
              "    }\n",
              "\n",
              "    .dataframe thead th {\n",
              "        text-align: right;\n",
              "    }\n",
              "</style>\n",
              "<table border=\"1\" class=\"dataframe\">\n",
              "  <thead>\n",
              "    <tr style=\"text-align: right;\">\n",
              "      <th></th>\n",
              "      <th>age</th>\n",
              "      <th>sex</th>\n",
              "      <th>bmi</th>\n",
              "      <th>bp</th>\n",
              "      <th>s1</th>\n",
              "      <th>s2</th>\n",
              "      <th>s3</th>\n",
              "      <th>s4</th>\n",
              "      <th>s5</th>\n",
              "      <th>s6</th>\n",
              "      <th>y</th>\n",
              "    </tr>\n",
              "  </thead>\n",
              "  <tbody>\n",
              "    <tr>\n",
              "      <th>0</th>\n",
              "      <td>0.038076</td>\n",
              "      <td>0.050680</td>\n",
              "      <td>0.061696</td>\n",
              "      <td>0.021872</td>\n",
              "      <td>-0.044223</td>\n",
              "      <td>-0.034821</td>\n",
              "      <td>-0.043401</td>\n",
              "      <td>-0.002592</td>\n",
              "      <td>0.019908</td>\n",
              "      <td>-0.017646</td>\n",
              "      <td>151.0</td>\n",
              "    </tr>\n",
              "    <tr>\n",
              "      <th>1</th>\n",
              "      <td>-0.001882</td>\n",
              "      <td>-0.044642</td>\n",
              "      <td>-0.051474</td>\n",
              "      <td>-0.026328</td>\n",
              "      <td>-0.008449</td>\n",
              "      <td>-0.019163</td>\n",
              "      <td>0.074412</td>\n",
              "      <td>-0.039493</td>\n",
              "      <td>-0.068330</td>\n",
              "      <td>-0.092204</td>\n",
              "      <td>75.0</td>\n",
              "    </tr>\n",
              "    <tr>\n",
              "      <th>2</th>\n",
              "      <td>0.085299</td>\n",
              "      <td>0.050680</td>\n",
              "      <td>0.044451</td>\n",
              "      <td>-0.005671</td>\n",
              "      <td>-0.045599</td>\n",
              "      <td>-0.034194</td>\n",
              "      <td>-0.032356</td>\n",
              "      <td>-0.002592</td>\n",
              "      <td>0.002864</td>\n",
              "      <td>-0.025930</td>\n",
              "      <td>141.0</td>\n",
              "    </tr>\n",
              "    <tr>\n",
              "      <th>3</th>\n",
              "      <td>-0.089063</td>\n",
              "      <td>-0.044642</td>\n",
              "      <td>-0.011595</td>\n",
              "      <td>-0.036656</td>\n",
              "      <td>0.012191</td>\n",
              "      <td>0.024991</td>\n",
              "      <td>-0.036038</td>\n",
              "      <td>0.034309</td>\n",
              "      <td>0.022692</td>\n",
              "      <td>-0.009362</td>\n",
              "      <td>206.0</td>\n",
              "    </tr>\n",
              "    <tr>\n",
              "      <th>4</th>\n",
              "      <td>0.005383</td>\n",
              "      <td>-0.044642</td>\n",
              "      <td>-0.036385</td>\n",
              "      <td>0.021872</td>\n",
              "      <td>0.003935</td>\n",
              "      <td>0.015596</td>\n",
              "      <td>0.008142</td>\n",
              "      <td>-0.002592</td>\n",
              "      <td>-0.031991</td>\n",
              "      <td>-0.046641</td>\n",
              "      <td>135.0</td>\n",
              "    </tr>\n",
              "  </tbody>\n",
              "</table>\n",
              "</div>"
            ],
            "text/plain": [
              "        age       sex       bmi        bp  ...        s4        s5        s6      y\n",
              "0  0.038076  0.050680  0.061696  0.021872  ... -0.002592  0.019908 -0.017646  151.0\n",
              "1 -0.001882 -0.044642 -0.051474 -0.026328  ... -0.039493 -0.068330 -0.092204   75.0\n",
              "2  0.085299  0.050680  0.044451 -0.005671  ... -0.002592  0.002864 -0.025930  141.0\n",
              "3 -0.089063 -0.044642 -0.011595 -0.036656  ...  0.034309  0.022692 -0.009362  206.0\n",
              "4  0.005383 -0.044642 -0.036385  0.021872  ... -0.002592 -0.031991 -0.046641  135.0\n",
              "\n",
              "[5 rows x 11 columns]"
            ]
          },
          "metadata": {},
          "execution_count": 116
        }
      ]
    },
    {
      "cell_type": "markdown",
      "metadata": {
        "id": "em86wv1qIO_w"
      },
      "source": [
        "**Histograma da variável y**"
      ]
    },
    {
      "cell_type": "code",
      "metadata": {
        "colab": {
          "base_uri": "https://localhost:8080/",
          "height": 0
        },
        "id": "6eniP3abFuk-",
        "outputId": "a1c99e89-e33e-4758-b31f-6cb368133867"
      },
      "source": [
        "plt.hist(tabela['y'])\n",
        "plt.title('Histograma de y')\n",
        "plt.show()"
      ],
      "execution_count": 117,
      "outputs": [
        {
          "output_type": "display_data",
          "data": {
            "image/png": "[encoded data removed]",
            "text/plain": [
              "<Figure size 432x288 with 1 Axes>"
            ]
          },
          "metadata": {
            "needs_background": "light"
          }
        }
      ]
    },
    {
      "cell_type": "markdown",
      "metadata": {
        "id": "ClKFRpzjIS6_"
      },
      "source": [
        "## Trabalhando com os dados"
      ]
    },
    {
      "cell_type": "markdown",
      "metadata": {
        "id": "E22iK0WRIxjG"
      },
      "source": [
        "### **Obtenção da variável dependente**"
      ]
    },
    {
      "cell_type": "code",
      "metadata": {
        "id": "DQ7A21JkHYK_"
      },
      "source": [
        "y = tabela['y']\n",
        "y_treinamento = y[:-20]\n",
        "y_teste = y[-20:].array.to_numpy().reshape(-1,1)"
      ],
      "execution_count": 118,
      "outputs": []
    },
    {
      "cell_type": "markdown",
      "metadata": {
        "id": "Sq4YuCE2IZa4"
      },
      "source": [
        "### **Variável _age_**"
      ]
    },
    {
      "cell_type": "markdown",
      "metadata": {
        "id": "lvDw7K8eMvyY"
      },
      "source": [
        "Obtenção dos dados da variável _age_:"
      ]
    },
    {
      "cell_type": "code",
      "metadata": {
        "id": "LrX2CYEIGQ0T"
      },
      "source": [
        "X_age = tabela['age']\n",
        "X_age_treinamento = X_age[:-20].array.to_numpy().reshape(-1,1)\n",
        "X_age_teste = X_age[-20:].array.to_numpy().reshape(-1,1)"
      ],
      "execution_count": 119,
      "outputs": []
    },
    {
      "cell_type": "markdown",
      "metadata": {
        "id": "qhyfXGEcMzcy"
      },
      "source": [
        "Instância e treinamento do modelo:"
      ]
    },
    {
      "cell_type": "code",
      "metadata": {
        "colab": {
          "base_uri": "https://localhost:8080/"
        },
        "id": "OTNvfamAM14e",
        "outputId": "e937e8fc-ead8-4323-fe86-b30858e8a438"
      },
      "source": [
        "age_regr = linear_model.LinearRegression()\n",
        "age_regr.fit(X_age_treinamento, y_treinamento)"
      ],
      "execution_count": 120,
      "outputs": [
        {
          "output_type": "execute_result",
          "data": {
            "text/plain": [
              "LinearRegression(copy_X=True, fit_intercept=True, n_jobs=None, normalize=False)"
            ]
          },
          "metadata": {},
          "execution_count": 120
        }
      ]
    },
    {
      "cell_type": "markdown",
      "metadata": {
        "id": "SCjH96kJNNOG"
      },
      "source": [
        "Predição do modelo:"
      ]
    },
    {
      "cell_type": "code",
      "metadata": {
        "id": "0o-TPt4DM6_H"
      },
      "source": [
        "age_pred = age_regr.predict(X_age_teste)"
      ],
      "execution_count": 121,
      "outputs": []
    },
    {
      "cell_type": "markdown",
      "metadata": {
        "id": "72Ol-aZbNVyT"
      },
      "source": [
        "Cálculo dos resíduos:"
      ]
    },
    {
      "cell_type": "code",
      "metadata": {
        "id": "wHI9wl1eNcPt"
      },
      "source": [
        "age_resi = y_teste - age_pred.reshape(-1,1)"
      ],
      "execution_count": 122,
      "outputs": []
    },
    {
      "cell_type": "markdown",
      "metadata": {
        "id": "sBOQ72OFNzbl"
      },
      "source": [
        "R-score:"
      ]
    },
    {
      "cell_type": "code",
      "metadata": {
        "colab": {
          "base_uri": "https://localhost:8080/"
        },
        "id": "H_56f12eS7Mi",
        "outputId": "aa58511d-b9e9-44ff-c865-8f6985076a07"
      },
      "source": [
        "age_r2_score = r2_score(y_teste, age_pred)\n",
        "print(age_r2_score)"
      ],
      "execution_count": 123,
      "outputs": [
        {
          "output_type": "stream",
          "name": "stdout",
          "text": [
            "-0.1327020163062087\n"
          ]
        }
      ]
    },
    {
      "cell_type": "markdown",
      "metadata": {
        "id": "EazT36edN1YS"
      },
      "source": [
        "p-value:"
      ]
    },
    {
      "cell_type": "code",
      "metadata": {
        "colab": {
          "base_uri": "https://localhost:8080/"
        },
        "id": "NIEOue68TLmX",
        "outputId": "c3ffeb62-8164-4de4-caca-dada6184ea25"
      },
      "source": [
        "p_age_value = normal_ad(age_resi)[1]\n",
        "round(p_age_value[0],2)"
      ],
      "execution_count": 124,
      "outputs": [
        {
          "output_type": "execute_result",
          "data": {
            "text/plain": [
              "0.04"
            ]
          },
          "metadata": {},
          "execution_count": 124
        }
      ]
    },
    {
      "cell_type": "markdown",
      "metadata": {
        "id": "MpqRSdsFNbfP"
      },
      "source": [
        "Histograma:\n"
      ]
    },
    {
      "cell_type": "code",
      "metadata": {
        "colab": {
          "base_uri": "https://localhost:8080/",
          "height": 0
        },
        "id": "PMZBlIEyT8VQ",
        "outputId": "6062c4ab-9172-4afe-c692-6659e389e5f0"
      },
      "source": [
        "plt.hist(age_resi)\n",
        "plt.title('Histogrmaa dos resíduos da regressão')\n",
        "plt.show()"
      ],
      "execution_count": 125,
      "outputs": [
        {
          "output_type": "display_data",
          "data": {
            "image/png": "[encoded data removed]",
            "text/plain": [
              "<Figure size 432x288 with 1 Axes>"
            ]
          },
          "metadata": {
            "needs_background": "light"
          }
        }
      ]
    },
    {
      "cell_type": "markdown",
      "metadata": {
        "id": "pjrMJvRWOH5x"
      },
      "source": [
        "Gráfico de resíduos"
      ]
    },
    {
      "cell_type": "code",
      "metadata": {
        "colab": {
          "base_uri": "https://localhost:8080/",
          "height": 0
        },
        "id": "-V2B2eKPWzfH",
        "outputId": "58954c35-c65f-4799-f0c1-6bf6f3a0af21"
      },
      "source": [
        "plt.scatter(y=age_resi, x=age_pred, color='green', s=50, alpha=.6)\n",
        "plt.hlines(y=0, xmin=age_pred.min(), xmax=age_pred.max(), colors='orange')\n",
        "plt.ylabel('Resíduos')\n",
        "plt.xlabel('Predito')\n",
        "plt.title('Gráficos de resíduos')\n",
        "plt.show()"
      ],
      "execution_count": 126,
      "outputs": [
        {
          "output_type": "display_data",
          "data": {
            "image/png": "[encoded data removed]",
            "text/plain": [
              "<Figure size 432x288 with 1 Axes>"
            ]
          },
          "metadata": {
            "needs_background": "light"
          }
        }
      ]
    },
    {
      "cell_type": "markdown",
      "metadata": {
        "id": "4kYXhH02ORAu"
      },
      "source": [
        "### **Variável _sex_**"
      ]
    },
    {
      "cell_type": "markdown",
      "metadata": {
        "id": "pCD82HlRORAu"
      },
      "source": [
        "Obtenção dos dados da variável _age_:"
      ]
    },
    {
      "cell_type": "code",
      "metadata": {
        "id": "m01IwWO8ORAu"
      },
      "source": [
        "X_sex = tabela['sex']\n",
        "X_sex_treinamento = X_sex[:-20].array.to_numpy().reshape(-1,1)\n",
        "X_sex_teste = X_sex[-20:].array.to_numpy().reshape(-1,1)"
      ],
      "execution_count": 127,
      "outputs": []
    },
    {
      "cell_type": "markdown",
      "metadata": {
        "id": "94A4q52LORAv"
      },
      "source": [
        "Instância e treinamento do modelo:"
      ]
    },
    {
      "cell_type": "code",
      "metadata": {
        "colab": {
          "base_uri": "https://localhost:8080/"
        },
        "id": "1-4YHHkhORAv",
        "outputId": "b5b5c5f8-e3f6-4c8f-b6b1-684037e841df"
      },
      "source": [
        "sex_regr = linear_model.LinearRegression()\n",
        "sex_regr.fit(X_sex_treinamento, y_treinamento)"
      ],
      "execution_count": 128,
      "outputs": [
        {
          "output_type": "execute_result",
          "data": {
            "text/plain": [
              "LinearRegression(copy_X=True, fit_intercept=True, n_jobs=None, normalize=False)"
            ]
          },
          "metadata": {},
          "execution_count": 128
        }
      ]
    },
    {
      "cell_type": "markdown",
      "metadata": {
        "id": "Jisot2AMORAv"
      },
      "source": [
        "Predição do modelo:"
      ]
    },
    {
      "cell_type": "code",
      "metadata": {
        "id": "6AmcPG2_ORAw"
      },
      "source": [
        "sex_pred = sex_regr.predict(X_sex_teste)"
      ],
      "execution_count": 129,
      "outputs": []
    },
    {
      "cell_type": "markdown",
      "metadata": {
        "id": "dvb2alKFORAw"
      },
      "source": [
        "Cálculo dos resíduos:"
      ]
    },
    {
      "cell_type": "code",
      "metadata": {
        "id": "dDtCtiDvORAw"
      },
      "source": [
        "sex_resi = y_teste - sex_pred.reshape(-1,1)"
      ],
      "execution_count": 130,
      "outputs": []
    },
    {
      "cell_type": "markdown",
      "metadata": {
        "id": "92tBMu5dORAw"
      },
      "source": [
        "R-score:"
      ]
    },
    {
      "cell_type": "code",
      "metadata": {
        "colab": {
          "base_uri": "https://localhost:8080/"
        },
        "id": "54hF18sLYAPm",
        "outputId": "8448da00-03c0-4da8-9119-96178ac035af"
      },
      "source": [
        "sex_r2_score = r2_score(y_teste, sex_pred)\n",
        "print(sex_r2_score)"
      ],
      "execution_count": 131,
      "outputs": [
        {
          "output_type": "stream",
          "name": "stdout",
          "text": [
            "-0.13883792137588857\n"
          ]
        }
      ]
    },
    {
      "cell_type": "markdown",
      "metadata": {
        "id": "6M15oNMaORAx"
      },
      "source": [
        "p-value:"
      ]
    },
    {
      "cell_type": "code",
      "metadata": {
        "colab": {
          "base_uri": "https://localhost:8080/"
        },
        "id": "4KDTUnBrYJUK",
        "outputId": "09edcaf3-e229-4634-b1fc-e6facbd9b6ca"
      },
      "source": [
        "p_sex_value = normal_ad(sex_resi)[1]\n",
        "round(p_sex_value[0],2)"
      ],
      "execution_count": 132,
      "outputs": [
        {
          "output_type": "execute_result",
          "data": {
            "text/plain": [
              "0.05"
            ]
          },
          "metadata": {},
          "execution_count": 132
        }
      ]
    },
    {
      "cell_type": "markdown",
      "metadata": {
        "id": "OgcNm1DqORAx"
      },
      "source": [
        "Histograma:\n"
      ]
    },
    {
      "cell_type": "code",
      "metadata": {
        "colab": {
          "base_uri": "https://localhost:8080/",
          "height": 0
        },
        "id": "viZYJ3sBYSax",
        "outputId": "8a498c2e-d88e-41a6-b886-cbe38b97435c"
      },
      "source": [
        "plt.hist(sex_resi)\n",
        "plt.title('Histograma dos resíduos da regressão')\n",
        "plt.show()"
      ],
      "execution_count": 133,
      "outputs": [
        {
          "output_type": "display_data",
          "data": {
            "image/png": "[encoded data removed]",
            "text/plain": [
              "<Figure size 432x288 with 1 Axes>"
            ]
          },
          "metadata": {
            "needs_background": "light"
          }
        }
      ]
    },
    {
      "cell_type": "markdown",
      "metadata": {
        "id": "D98L5GDcORAx"
      },
      "source": [
        "Gráfico de resíduos"
      ]
    },
    {
      "cell_type": "code",
      "metadata": {
        "colab": {
          "base_uri": "https://localhost:8080/",
          "height": 0
        },
        "id": "CwY1W3XDYcwg",
        "outputId": "9d0a837c-5c36-4613-9bae-a1e6e4568df8"
      },
      "source": [
        "plt.scatter(y=sex_resi, x=sex_pred, color='green', s=50, alpha=.6)\n",
        "plt.hlines(y=0, xmin=sex_pred.min(), xmax=sex_pred.max(), colors='orange')\n",
        "plt.ylabel('Resíduos')\n",
        "plt.xlabel('Predito')\n",
        "plt.title('Gráficos de resíduos')\n",
        "plt.show()"
      ],
      "execution_count": 134,
      "outputs": [
        {
          "output_type": "display_data",
          "data": {
            "image/png": "[encoded data removed]",
            "text/plain": [
              "<Figure size 432x288 with 1 Axes>"
            ]
          },
          "metadata": {
            "needs_background": "light"
          }
        }
      ]
    },
    {
      "cell_type": "markdown",
      "metadata": {
        "id": "ctbcDE2LYwkS"
      },
      "source": [
        "### **Variável _bmi_**"
      ]
    },
    {
      "cell_type": "markdown",
      "metadata": {
        "id": "t4w-if5UYwkT"
      },
      "source": [
        "Obtenção dos dados da variável _age_:"
      ]
    },
    {
      "cell_type": "code",
      "metadata": {
        "id": "kFIHgq6PYwkU"
      },
      "source": [
        "X_bmi = tabela['bmi']\n",
        "X_bmi_treinamento = X_bmi[:-20].array.to_numpy().reshape(-1,1)\n",
        "X_bmi_teste = X_bmi[-20:].array.to_numpy().reshape(-1,1)"
      ],
      "execution_count": 135,
      "outputs": []
    },
    {
      "cell_type": "markdown",
      "metadata": {
        "id": "Ba2tWLWEYwkU"
      },
      "source": [
        "Instância e treinamento do modelo:"
      ]
    },
    {
      "cell_type": "code",
      "metadata": {
        "colab": {
          "base_uri": "https://localhost:8080/"
        },
        "id": "9imnu01nYwkV",
        "outputId": "12a50641-041a-4faf-fd4f-5931c1b416a1"
      },
      "source": [
        "bmi_regr = linear_model.LinearRegression()\n",
        "bmi_regr.fit(X_bmi_treinamento, y_treinamento)"
      ],
      "execution_count": 136,
      "outputs": [
        {
          "output_type": "execute_result",
          "data": {
            "text/plain": [
              "LinearRegression(copy_X=True, fit_intercept=True, n_jobs=None, normalize=False)"
            ]
          },
          "metadata": {},
          "execution_count": 136
        }
      ]
    },
    {
      "cell_type": "markdown",
      "metadata": {
        "id": "AMhHacmQYwkW"
      },
      "source": [
        "Predição do modelo:"
      ]
    },
    {
      "cell_type": "code",
      "metadata": {
        "id": "2qdHFYg9YwkX"
      },
      "source": [
        "bmi_pred = bmi_regr.predict(X_bmi_teste)"
      ],
      "execution_count": 137,
      "outputs": []
    },
    {
      "cell_type": "markdown",
      "metadata": {
        "id": "lrsQ9a8NYwkY"
      },
      "source": [
        "Cálculo dos resíduos:"
      ]
    },
    {
      "cell_type": "code",
      "metadata": {
        "id": "JZ9rHGAqYwkY"
      },
      "source": [
        "bmi_resi = y_teste - bmi_pred.reshape(-1,1)"
      ],
      "execution_count": 138,
      "outputs": []
    },
    {
      "cell_type": "markdown",
      "metadata": {
        "id": "fZB2BRsMYwkZ"
      },
      "source": [
        "R-score:"
      ]
    },
    {
      "cell_type": "code",
      "metadata": {
        "id": "2dY89-3zYwka"
      },
      "source": [
        "bmi_r2_score = r2_score(y_teste, bmi_pred)"
      ],
      "execution_count": 139,
      "outputs": []
    },
    {
      "cell_type": "markdown",
      "metadata": {
        "id": "Hbv09BdjYwkb"
      },
      "source": [
        "p-value:"
      ]
    },
    {
      "cell_type": "code",
      "metadata": {
        "colab": {
          "base_uri": "https://localhost:8080/"
        },
        "id": "bcYXkDD4Ywkc",
        "outputId": "4f81bd44-b59b-440e-9b0f-1d6d05d44eac"
      },
      "source": [
        "p_bmi_value = normal_ad(bmi_resi)[1]\n",
        "round(p_bmi_value[0],2)"
      ],
      "execution_count": 140,
      "outputs": [
        {
          "output_type": "execute_result",
          "data": {
            "text/plain": [
              "0.51"
            ]
          },
          "metadata": {},
          "execution_count": 140
        }
      ]
    },
    {
      "cell_type": "markdown",
      "metadata": {
        "id": "wrPwIxEEYwkd"
      },
      "source": [
        "Histograma:\n"
      ]
    },
    {
      "cell_type": "code",
      "metadata": {
        "colab": {
          "base_uri": "https://localhost:8080/",
          "height": 0
        },
        "id": "fitH83JrYwkd",
        "outputId": "c556df8b-1da1-4d86-cbf4-816d73521277"
      },
      "source": [
        "plt.hist(bmi_resi)\n",
        "plt.title('Histograma dos resíduos da regressão')\n",
        "plt.show()"
      ],
      "execution_count": 141,
      "outputs": [
        {
          "output_type": "display_data",
          "data": {
            "image/png": "[encoded data removed]",
            "text/plain": [
              "<Figure size 432x288 with 1 Axes>"
            ]
          },
          "metadata": {
            "needs_background": "light"
          }
        }
      ]
    },
    {
      "cell_type": "markdown",
      "metadata": {
        "id": "qpmxeVmFYwke"
      },
      "source": [
        "Gráfico de resíduos"
      ]
    },
    {
      "cell_type": "code",
      "metadata": {
        "colab": {
          "base_uri": "https://localhost:8080/",
          "height": 0
        },
        "id": "HItbSUJvYwkf",
        "outputId": "9d8075ba-1aa8-4c39-e0b7-94b804a63d24"
      },
      "source": [
        "plt.scatter(y=bmi_resi, x=bmi_pred, color='green', s=50, alpha=.6)\n",
        "plt.hlines(y=0, xmin=bmi_pred.min(), xmax=bmi_pred.max(), colors='orange')\n",
        "plt.ylabel('Resíduos')\n",
        "plt.xlabel('Predito')\n",
        "plt.title('Gráficos de resíduos')\n",
        "plt.show()"
      ],
      "execution_count": 142,
      "outputs": [
        {
          "output_type": "display_data",
          "data": {
            "image/png": "[encoded data removed]",
            "text/plain": [
              "<Figure size 432x288 with 1 Axes>"
            ]
          },
          "metadata": {
            "needs_background": "light"
          }
        }
      ]
    },
    {
      "cell_type": "markdown",
      "metadata": {
        "id": "eGXrDK6WZZlk"
      },
      "source": [
        "### **Variável _bp_**"
      ]
    },
    {
      "cell_type": "markdown",
      "metadata": {
        "id": "KHJL8gQ8ZZlk"
      },
      "source": [
        "Obtenção dos dados da variável _age_:"
      ]
    },
    {
      "cell_type": "code",
      "metadata": {
        "id": "I-7ZeBO_ZZll"
      },
      "source": [
        "X_bp = tabela['bp']\n",
        "X_bp_treinamento = X_bp[:-20].array.to_numpy().reshape(-1,1)\n",
        "X_bp_teste = X_bp[-20:].array.to_numpy().reshape(-1,1)"
      ],
      "execution_count": 143,
      "outputs": []
    },
    {
      "cell_type": "markdown",
      "metadata": {
        "id": "k2BnEetdZZll"
      },
      "source": [
        "Instância e treinamento do modelo:"
      ]
    },
    {
      "cell_type": "code",
      "metadata": {
        "colab": {
          "base_uri": "https://localhost:8080/"
        },
        "id": "h2RO0EG4ZZll",
        "outputId": "cac8e3c3-4f9a-4b07-93d0-4bbda729513d"
      },
      "source": [
        "bp_regr = linear_model.LinearRegression()\n",
        "bp_regr.fit(X_bp_treinamento, y_treinamento)"
      ],
      "execution_count": 144,
      "outputs": [
        {
          "output_type": "execute_result",
          "data": {
            "text/plain": [
              "LinearRegression(copy_X=True, fit_intercept=True, n_jobs=None, normalize=False)"
            ]
          },
          "metadata": {},
          "execution_count": 144
        }
      ]
    },
    {
      "cell_type": "markdown",
      "metadata": {
        "id": "QExFOOJJZZlm"
      },
      "source": [
        "Predição do modelo:"
      ]
    },
    {
      "cell_type": "code",
      "metadata": {
        "id": "HYRfjGOgZZln"
      },
      "source": [
        "bp_pred = bp_regr.predict(X_bp_teste)"
      ],
      "execution_count": 145,
      "outputs": []
    },
    {
      "cell_type": "markdown",
      "metadata": {
        "id": "jdC-45pQZZln"
      },
      "source": [
        "Cálculo dos resíduos:"
      ]
    },
    {
      "cell_type": "code",
      "metadata": {
        "id": "skIrJ9T8ZZln"
      },
      "source": [
        "bp_resi = y_teste - bp_pred.reshape(-1,1)"
      ],
      "execution_count": 146,
      "outputs": []
    },
    {
      "cell_type": "markdown",
      "metadata": {
        "id": "1zBf0z6dZZln"
      },
      "source": [
        "R-score:"
      ]
    },
    {
      "cell_type": "code",
      "metadata": {
        "colab": {
          "base_uri": "https://localhost:8080/"
        },
        "id": "AJIP6GKWZZlo",
        "outputId": "d63a7240-4d1d-4080-b1f8-f24ec80a58af"
      },
      "source": [
        "bp_r2_score = r2_score(y_teste, bp_pred)\n",
        "print(bp_r2_score)"
      ],
      "execution_count": 147,
      "outputs": [
        {
          "output_type": "stream",
          "name": "stdout",
          "text": [
            "0.15995117339547205\n"
          ]
        }
      ]
    },
    {
      "cell_type": "markdown",
      "metadata": {
        "id": "F0KceZqyZZlo"
      },
      "source": [
        "p-value:"
      ]
    },
    {
      "cell_type": "code",
      "metadata": {
        "colab": {
          "base_uri": "https://localhost:8080/"
        },
        "id": "oBr8Gs2WZZlo",
        "outputId": "582569ba-f332-4ed5-875c-3198cdacfb2f"
      },
      "source": [
        "p_bp_value = normal_ad(bp_resi)[1]\n",
        "round(p_bp_value[0],2)"
      ],
      "execution_count": 148,
      "outputs": [
        {
          "output_type": "execute_result",
          "data": {
            "text/plain": [
              "0.18"
            ]
          },
          "metadata": {},
          "execution_count": 148
        }
      ]
    },
    {
      "cell_type": "markdown",
      "metadata": {
        "id": "NCXeKPyFZZlo"
      },
      "source": [
        "Histograma:\n"
      ]
    },
    {
      "cell_type": "code",
      "metadata": {
        "colab": {
          "base_uri": "https://localhost:8080/",
          "height": 0
        },
        "id": "LS6PArqvZZlp",
        "outputId": "377535ec-831e-496d-fade-680d4183d42f"
      },
      "source": [
        "plt.hist(bp_resi)\n",
        "plt.title('Histograma dos resíduos da regressão')\n",
        "plt.show()"
      ],
      "execution_count": 149,
      "outputs": [
        {
          "output_type": "display_data",
          "data": {
            "image/png": "[encoded data removed]",
            "text/plain": [
              "<Figure size 432x288 with 1 Axes>"
            ]
          },
          "metadata": {
            "needs_background": "light"
          }
        }
      ]
    },
    {
      "cell_type": "markdown",
      "metadata": {
        "id": "SylXBPXFZZlp"
      },
      "source": [
        "Gráfico de resíduos"
      ]
    },
    {
      "cell_type": "code",
      "metadata": {
        "colab": {
          "base_uri": "https://localhost:8080/",
          "height": 0
        },
        "id": "1_FXLA0DZZlp",
        "outputId": "3c3c6614-159f-4d44-f2ed-60509362cfa0"
      },
      "source": [
        "plt.scatter(y=bp_resi, x=bp_pred, color='green', s=50, alpha=.6)\n",
        "plt.hlines(y=0, xmin=bp_pred.min(), xmax=bp_pred.max(), colors='orange')\n",
        "plt.ylabel('Resíduos')\n",
        "plt.xlabel('Predito')\n",
        "plt.title('Gráficos de resíduos')\n",
        "plt.show()"
      ],
      "execution_count": 150,
      "outputs": [
        {
          "output_type": "display_data",
          "data": {
            "image/png": "[encoded data removed]",
            "text/plain": [
              "<Figure size 432x288 with 1 Axes>"
            ]
          },
          "metadata": {
            "needs_background": "light"
          }
        }
      ]
    },
    {
      "cell_type": "markdown",
      "metadata": {
        "id": "glVFAPqkZzjF"
      },
      "source": [
        "### **Variável _s1_**"
      ]
    },
    {
      "cell_type": "markdown",
      "metadata": {
        "id": "P3xpc08KZzjF"
      },
      "source": [
        "Obtenção dos dados da variável _age_:"
      ]
    },
    {
      "cell_type": "code",
      "metadata": {
        "id": "cCefnw20ZzjG"
      },
      "source": [
        "X_s1 = tabela['s1']\n",
        "X_s1_treinamento = X_s1[:-20].array.to_numpy().reshape(-1,1)\n",
        "X_s1_teste = X_s1[-20:].array.to_numpy().reshape(-1,1)"
      ],
      "execution_count": 151,
      "outputs": []
    },
    {
      "cell_type": "markdown",
      "metadata": {
        "id": "cUcZSmReZzjG"
      },
      "source": [
        "Instância e treinamento do modelo:"
      ]
    },
    {
      "cell_type": "code",
      "metadata": {
        "colab": {
          "base_uri": "https://localhost:8080/"
        },
        "id": "JHOqjaa7ZzjH",
        "outputId": "d09a7f7a-6644-4e9d-9ad8-5febf9a8bf4c"
      },
      "source": [
        "s1_regr = linear_model.LinearRegression()\n",
        "s1_regr.fit(X_s1_treinamento, y_treinamento)"
      ],
      "execution_count": 152,
      "outputs": [
        {
          "output_type": "execute_result",
          "data": {
            "text/plain": [
              "LinearRegression(copy_X=True, fit_intercept=True, n_jobs=None, normalize=False)"
            ]
          },
          "metadata": {},
          "execution_count": 152
        }
      ]
    },
    {
      "cell_type": "markdown",
      "metadata": {
        "id": "gpno6YXmZzjH"
      },
      "source": [
        "Predição do modelo:"
      ]
    },
    {
      "cell_type": "code",
      "metadata": {
        "id": "Jp7LTQIEZzjI"
      },
      "source": [
        "s1_pred = s1_regr.predict(X_s1_teste)"
      ],
      "execution_count": 153,
      "outputs": []
    },
    {
      "cell_type": "markdown",
      "metadata": {
        "id": "AX_-zUGKZzjI"
      },
      "source": [
        "Cálculo dos resíduos:"
      ]
    },
    {
      "cell_type": "code",
      "metadata": {
        "id": "svKh__TWZzjJ"
      },
      "source": [
        "s1_resi = y_teste - s1_pred.reshape(-1,1)"
      ],
      "execution_count": 154,
      "outputs": []
    },
    {
      "cell_type": "markdown",
      "metadata": {
        "id": "nBgUwrEbZzjJ"
      },
      "source": [
        "R-score:"
      ]
    },
    {
      "cell_type": "code",
      "metadata": {
        "colab": {
          "base_uri": "https://localhost:8080/"
        },
        "id": "SwCiXWgzZzjL",
        "outputId": "56f6b4ae-9c47-4ebf-aa2c-54240fb929ef"
      },
      "source": [
        "s1_r2_score = r2_score(y_teste, s1_pred)\n",
        "print(s1_r2_score)"
      ],
      "execution_count": 155,
      "outputs": [
        {
          "output_type": "stream",
          "name": "stdout",
          "text": [
            "-0.16094176987655562\n"
          ]
        }
      ]
    },
    {
      "cell_type": "markdown",
      "metadata": {
        "id": "_iJgYXYfZzjL"
      },
      "source": [
        "p-value:"
      ]
    },
    {
      "cell_type": "code",
      "metadata": {
        "colab": {
          "base_uri": "https://localhost:8080/"
        },
        "id": "-N1baA6RZzjM",
        "outputId": "b9cf7de7-0012-4859-9290-ae356bf4bc5d"
      },
      "source": [
        "p_s1_value = normal_ad(s1_resi)[1]\n",
        "round(p_s1_value[0],2)"
      ],
      "execution_count": 156,
      "outputs": [
        {
          "output_type": "execute_result",
          "data": {
            "text/plain": [
              "0.11"
            ]
          },
          "metadata": {},
          "execution_count": 156
        }
      ]
    },
    {
      "cell_type": "markdown",
      "metadata": {
        "id": "NEsRD-j0ZzjM"
      },
      "source": [
        "Histograma:\n"
      ]
    },
    {
      "cell_type": "code",
      "metadata": {
        "colab": {
          "base_uri": "https://localhost:8080/",
          "height": 0
        },
        "id": "8C2Bc54rZzjM",
        "outputId": "87d3b0a9-5efa-4a25-e729-b590392c9389"
      },
      "source": [
        "plt.hist(s1_resi)\n",
        "plt.title('Histograma dos resíduos da regressão')\n",
        "plt.show()"
      ],
      "execution_count": 157,
      "outputs": [
        {
          "output_type": "display_data",
          "data": {
            "image/png": "[encoded data removed]",
            "text/plain": [
              "<Figure size 432x288 with 1 Axes>"
            ]
          },
          "metadata": {
            "needs_background": "light"
          }
        }
      ]
    },
    {
      "cell_type": "markdown",
      "metadata": {
        "id": "pJd6DDlrZzjN"
      },
      "source": [
        "Gráfico de resíduos"
      ]
    },
    {
      "cell_type": "code",
      "metadata": {
        "colab": {
          "base_uri": "https://localhost:8080/",
          "height": 0
        },
        "id": "LI9Z1gyoZzjN",
        "outputId": "fd2e8eae-3218-461e-929e-847120c699fb"
      },
      "source": [
        "plt.scatter(y=s1_resi, x=s1_pred, color='green', s=50, alpha=.6)\n",
        "plt.hlines(y=0, xmin=s1_pred.min(), xmax=s1_pred.max(), colors='orange')\n",
        "plt.ylabel('Resíduos')\n",
        "plt.xlabel('Predito')\n",
        "plt.title('Gráficos de resíduos')\n",
        "plt.show()"
      ],
      "execution_count": 158,
      "outputs": [
        {
          "output_type": "display_data",
          "data": {
            "image/png": "[encoded data removed]",
            "text/plain": [
              "<Figure size 432x288 with 1 Axes>"
            ]
          },
          "metadata": {
            "needs_background": "light"
          }
        }
      ]
    },
    {
      "cell_type": "markdown",
      "metadata": {
        "id": "2MD2y3-CaVrq"
      },
      "source": [
        "### **Variável _s2_**"
      ]
    },
    {
      "cell_type": "markdown",
      "metadata": {
        "id": "GzfFCYznaVrv"
      },
      "source": [
        "Obtenção dos dados da variável _age_:"
      ]
    },
    {
      "cell_type": "code",
      "metadata": {
        "id": "qyoV8R2MaVrw"
      },
      "source": [
        "X_s2 = tabela['s2']\n",
        "X_s2_treinamento = X_s2[:-20].array.to_numpy().reshape(-1,1)\n",
        "X_s2_teste = X_s2[-20:].array.to_numpy().reshape(-1,1)"
      ],
      "execution_count": 159,
      "outputs": []
    },
    {
      "cell_type": "markdown",
      "metadata": {
        "id": "I89w5FA5aVry"
      },
      "source": [
        "Instância e treinamento do modelo:"
      ]
    },
    {
      "cell_type": "code",
      "metadata": {
        "colab": {
          "base_uri": "https://localhost:8080/"
        },
        "id": "s-ctzkyUaVrz",
        "outputId": "5faa43ee-5b37-40b5-ed02-291a3f2c3147"
      },
      "source": [
        "s2_regr = linear_model.LinearRegression()\n",
        "s2_regr.fit(X_s2_treinamento, y_treinamento)"
      ],
      "execution_count": 160,
      "outputs": [
        {
          "output_type": "execute_result",
          "data": {
            "text/plain": [
              "LinearRegression(copy_X=True, fit_intercept=True, n_jobs=None, normalize=False)"
            ]
          },
          "metadata": {},
          "execution_count": 160
        }
      ]
    },
    {
      "cell_type": "markdown",
      "metadata": {
        "id": "pHWU7OBTaVr0"
      },
      "source": [
        "Predição do modelo:"
      ]
    },
    {
      "cell_type": "code",
      "metadata": {
        "id": "ibhNEA3WaVr0"
      },
      "source": [
        "s2_pred = s2_regr.predict(X_s2_teste)"
      ],
      "execution_count": 161,
      "outputs": []
    },
    {
      "cell_type": "markdown",
      "metadata": {
        "id": "EhfSg6E3aVr1"
      },
      "source": [
        "Cálculo dos resíduos:"
      ]
    },
    {
      "cell_type": "code",
      "metadata": {
        "id": "Iue665OwaVr2"
      },
      "source": [
        "s2_resi = y_teste - s2_pred.reshape(-1,1)"
      ],
      "execution_count": 162,
      "outputs": []
    },
    {
      "cell_type": "markdown",
      "metadata": {
        "id": "kGX9W0AnaVr2"
      },
      "source": [
        "R-score:"
      ]
    },
    {
      "cell_type": "code",
      "metadata": {
        "colab": {
          "base_uri": "https://localhost:8080/"
        },
        "id": "XS280v-5aVr3",
        "outputId": "80b62279-6645-4cba-9126-8cf6c62b1945"
      },
      "source": [
        "s2_r2_score = r2_score(y_teste, s2_pred)\n",
        "print(s2_r2_score)"
      ],
      "execution_count": 163,
      "outputs": [
        {
          "output_type": "stream",
          "name": "stdout",
          "text": [
            "-0.15171870558113\n"
          ]
        }
      ]
    },
    {
      "cell_type": "markdown",
      "metadata": {
        "id": "8bVEgtvOaVr4"
      },
      "source": [
        "p-value:"
      ]
    },
    {
      "cell_type": "code",
      "metadata": {
        "colab": {
          "base_uri": "https://localhost:8080/"
        },
        "id": "VkPDDtOHaVr5",
        "outputId": "03dce608-309b-4aea-acfa-4b0006745aed"
      },
      "source": [
        "p_s2_value = normal_ad(s2_resi)[1]\n",
        "round(p_s2_value[0],2)"
      ],
      "execution_count": 164,
      "outputs": [
        {
          "output_type": "execute_result",
          "data": {
            "text/plain": [
              "0.02"
            ]
          },
          "metadata": {},
          "execution_count": 164
        }
      ]
    },
    {
      "cell_type": "markdown",
      "metadata": {
        "id": "xnrXeKr2aVr6"
      },
      "source": [
        "Histograma:\n"
      ]
    },
    {
      "cell_type": "code",
      "metadata": {
        "colab": {
          "base_uri": "https://localhost:8080/",
          "height": 0
        },
        "id": "wwFpA10MaVr6",
        "outputId": "1feadc1e-33c7-4369-d5ad-ede34524f2f0"
      },
      "source": [
        "plt.hist(s2_resi)\n",
        "plt.title('Histograma dos resíduos da regressão')\n",
        "plt.show()"
      ],
      "execution_count": 165,
      "outputs": [
        {
          "output_type": "display_data",
          "data": {
            "image/png": "[encoded data removed]",
            "text/plain": [
              "<Figure size 432x288 with 1 Axes>"
            ]
          },
          "metadata": {
            "needs_background": "light"
          }
        }
      ]
    },
    {
      "cell_type": "markdown",
      "metadata": {
        "id": "DTV0i0_NaVr7"
      },
      "source": [
        "Gráfico de resíduos"
      ]
    },
    {
      "cell_type": "code",
      "metadata": {
        "colab": {
          "base_uri": "https://localhost:8080/",
          "height": 0
        },
        "id": "2i_V0ycDaVr8",
        "outputId": "9bcee72e-d01a-472d-8390-7ff556cc84d4"
      },
      "source": [
        "plt.scatter(y=s2_resi, x=s2_pred, color='green', s=50, alpha=.6)\n",
        "plt.hlines(y=0, xmin=s2_pred.min(), xmax=s2_pred.max(), colors='orange')\n",
        "plt.ylabel('Resíduos')\n",
        "plt.xlabel('Predito')\n",
        "plt.title('Gráficos de resíduos')\n",
        "plt.show()"
      ],
      "execution_count": 166,
      "outputs": [
        {
          "output_type": "display_data",
          "data": {
            "image/png": "[encoded data removed]",
            "text/plain": [
              "<Figure size 432x288 with 1 Axes>"
            ]
          },
          "metadata": {
            "needs_background": "light"
          }
        }
      ]
    },
    {
      "cell_type": "markdown",
      "metadata": {
        "id": "rBEOZIbKajxt"
      },
      "source": [
        "### **Variável _s3_**"
      ]
    },
    {
      "cell_type": "markdown",
      "metadata": {
        "id": "2DSb_luHajxt"
      },
      "source": [
        "Obtenção dos dados da variável _age_:"
      ]
    },
    {
      "cell_type": "code",
      "metadata": {
        "id": "wBmPlRkGajxt"
      },
      "source": [
        "X_s3 = tabela['s3']\n",
        "X_s3_treinamento = X_s3[:-20].array.to_numpy().reshape(-1,1)\n",
        "X_s3_teste = X_s3[-20:].array.to_numpy().reshape(-1,1)"
      ],
      "execution_count": 167,
      "outputs": []
    },
    {
      "cell_type": "markdown",
      "metadata": {
        "id": "EfgLfjoAajxu"
      },
      "source": [
        "Instância e treinamento do modelo:"
      ]
    },
    {
      "cell_type": "code",
      "metadata": {
        "colab": {
          "base_uri": "https://localhost:8080/"
        },
        "id": "62YKeKzqajxu",
        "outputId": "1025d10d-8e5d-493c-a51a-f704d0ca7d2d"
      },
      "source": [
        "s3_regr = linear_model.LinearRegression()\n",
        "s3_regr.fit(X_s3_treinamento, y_treinamento)"
      ],
      "execution_count": 168,
      "outputs": [
        {
          "output_type": "execute_result",
          "data": {
            "text/plain": [
              "LinearRegression(copy_X=True, fit_intercept=True, n_jobs=None, normalize=False)"
            ]
          },
          "metadata": {},
          "execution_count": 168
        }
      ]
    },
    {
      "cell_type": "markdown",
      "metadata": {
        "id": "u26UswZ4ajxu"
      },
      "source": [
        "Predição do modelo:"
      ]
    },
    {
      "cell_type": "code",
      "metadata": {
        "id": "-Tti8-cTajxu"
      },
      "source": [
        "s3_pred = s3_regr.predict(X_s3_teste)"
      ],
      "execution_count": 169,
      "outputs": []
    },
    {
      "cell_type": "markdown",
      "metadata": {
        "id": "2EtA935eajxu"
      },
      "source": [
        "Cálculo dos resíduos:"
      ]
    },
    {
      "cell_type": "code",
      "metadata": {
        "id": "6hjtZgCrajxv"
      },
      "source": [
        "s3_resi = y_teste - s3_pred.reshape(-1,1)"
      ],
      "execution_count": 170,
      "outputs": []
    },
    {
      "cell_type": "markdown",
      "metadata": {
        "id": "SFx45g3dajxv"
      },
      "source": [
        "R-score:"
      ]
    },
    {
      "cell_type": "code",
      "metadata": {
        "colab": {
          "base_uri": "https://localhost:8080/"
        },
        "id": "HWmGqHlOajxv",
        "outputId": "7f680006-b262-41bd-f4b2-10a28f0bb834"
      },
      "source": [
        "s3_r2_score = r2_score(y_teste, s3_pred)\n",
        "print(s3_r2_score)"
      ],
      "execution_count": 171,
      "outputs": [
        {
          "output_type": "stream",
          "name": "stdout",
          "text": [
            "0.060610607792839555\n"
          ]
        }
      ]
    },
    {
      "cell_type": "markdown",
      "metadata": {
        "id": "yJG4EvXWajxv"
      },
      "source": [
        "p-value:"
      ]
    },
    {
      "cell_type": "code",
      "metadata": {
        "colab": {
          "base_uri": "https://localhost:8080/"
        },
        "id": "iyO8f5ISajxv",
        "outputId": "fb65f8fc-660d-46b1-c246-f5cb013f6305"
      },
      "source": [
        "p_s3_value = normal_ad(s3_resi)[1]\n",
        "round(p_s3_value[0],2)"
      ],
      "execution_count": 172,
      "outputs": [
        {
          "output_type": "execute_result",
          "data": {
            "text/plain": [
              "0.32"
            ]
          },
          "metadata": {},
          "execution_count": 172
        }
      ]
    },
    {
      "cell_type": "markdown",
      "metadata": {
        "id": "b1AJXIGAajxw"
      },
      "source": [
        "Histograma:\n"
      ]
    },
    {
      "cell_type": "code",
      "metadata": {
        "colab": {
          "base_uri": "https://localhost:8080/",
          "height": 0
        },
        "id": "8UNl3gO8ajxw",
        "outputId": "f9c0ff2a-c9dd-4276-b921-ca9c7eb706bb"
      },
      "source": [
        "plt.hist(s3_resi)\n",
        "plt.title('Histograma dos resíduos da regressão')\n",
        "plt.show()"
      ],
      "execution_count": 173,
      "outputs": [
        {
          "output_type": "display_data",
          "data": {
            "image/png": "[encoded data removed]",
            "text/plain": [
              "<Figure size 432x288 with 1 Axes>"
            ]
          },
          "metadata": {
            "needs_background": "light"
          }
        }
      ]
    },
    {
      "cell_type": "markdown",
      "metadata": {
        "id": "ouS5Gs-9ajxw"
      },
      "source": [
        "Gráfico de resíduos"
      ]
    },
    {
      "cell_type": "code",
      "metadata": {
        "colab": {
          "base_uri": "https://localhost:8080/",
          "height": 0
        },
        "id": "3TX0bjUaajxw",
        "outputId": "be0895f5-c063-45c5-bd1c-c185fdf4bc12"
      },
      "source": [
        "plt.scatter(y=s3_resi, x=s3_pred, color='green', s=50, alpha=.6)\n",
        "plt.hlines(y=0, xmin=s3_pred.min(), xmax=s3_pred.max(), colors='orange')\n",
        "plt.ylabel('Resíduos')\n",
        "plt.xlabel('Predito')\n",
        "plt.title('Gráficos de resíduos')\n",
        "plt.show()"
      ],
      "execution_count": 174,
      "outputs": [
        {
          "output_type": "display_data",
          "data": {
            "image/png": "[encoded data removed]",
            "text/plain": [
              "<Figure size 432x288 with 1 Axes>"
            ]
          },
          "metadata": {
            "needs_background": "light"
          }
        }
      ]
    },
    {
      "cell_type": "markdown",
      "metadata": {
        "id": "m5_FiLQwa6Y_"
      },
      "source": [
        "### **Variável _s4_**"
      ]
    },
    {
      "cell_type": "markdown",
      "metadata": {
        "id": "eHa2w7kka6Y_"
      },
      "source": [
        "Obtenção dos dados da variável _age_:"
      ]
    },
    {
      "cell_type": "code",
      "metadata": {
        "id": "xG9X5HBda6ZA"
      },
      "source": [
        "X_s4 = tabela['s4']\n",
        "X_s4_treinamento = X_s4[:-20].array.to_numpy().reshape(-1,1)\n",
        "X_s4_teste = X_s4[-20:].array.to_numpy().reshape(-1,1)"
      ],
      "execution_count": 175,
      "outputs": []
    },
    {
      "cell_type": "markdown",
      "metadata": {
        "id": "tIxSVWxTa6ZA"
      },
      "source": [
        "Instância e treinamento do modelo:"
      ]
    },
    {
      "cell_type": "code",
      "metadata": {
        "colab": {
          "base_uri": "https://localhost:8080/"
        },
        "id": "8pwjL_Iga6ZA",
        "outputId": "cea641a1-accc-495f-b12c-f82b0207160f"
      },
      "source": [
        "s4_regr = linear_model.LinearRegression()\n",
        "s4_regr.fit(X_s4_treinamento, y_treinamento)"
      ],
      "execution_count": 176,
      "outputs": [
        {
          "output_type": "execute_result",
          "data": {
            "text/plain": [
              "LinearRegression(copy_X=True, fit_intercept=True, n_jobs=None, normalize=False)"
            ]
          },
          "metadata": {},
          "execution_count": 176
        }
      ]
    },
    {
      "cell_type": "markdown",
      "metadata": {
        "id": "C44BAdpNa6ZB"
      },
      "source": [
        "Predição do modelo:"
      ]
    },
    {
      "cell_type": "code",
      "metadata": {
        "id": "qUsOn_n0a6ZB"
      },
      "source": [
        "s4_pred = s4_regr.predict(X_s4_teste)"
      ],
      "execution_count": 177,
      "outputs": []
    },
    {
      "cell_type": "markdown",
      "metadata": {
        "id": "mdbW0vsya6ZB"
      },
      "source": [
        "Cálculo dos resíduos:"
      ]
    },
    {
      "cell_type": "code",
      "metadata": {
        "id": "VJn5_oT_a6ZB"
      },
      "source": [
        "s4_resi = y_teste - s4_pred.reshape(-1,1)"
      ],
      "execution_count": 178,
      "outputs": []
    },
    {
      "cell_type": "markdown",
      "metadata": {
        "id": "mcwV6Hpba6ZB"
      },
      "source": [
        "R-score:"
      ]
    },
    {
      "cell_type": "code",
      "metadata": {
        "colab": {
          "base_uri": "https://localhost:8080/"
        },
        "id": "Px2DFS8Ma6ZB",
        "outputId": "f4847845-7993-49a3-9b90-f25a98ed08f6"
      },
      "source": [
        "s4_r2_score = r2_score(y_teste, s4_pred)\n",
        "print(s4_r2_score)"
      ],
      "execution_count": 179,
      "outputs": [
        {
          "output_type": "stream",
          "name": "stdout",
          "text": [
            "-0.004070338973065413\n"
          ]
        }
      ]
    },
    {
      "cell_type": "markdown",
      "metadata": {
        "id": "8F1ZYFSla6ZC"
      },
      "source": [
        "p-value:"
      ]
    },
    {
      "cell_type": "code",
      "metadata": {
        "colab": {
          "base_uri": "https://localhost:8080/"
        },
        "id": "owokvkcXa6ZC",
        "outputId": "ae649211-2e4f-42d9-9a8a-82de84be27d1"
      },
      "source": [
        "p_s4_value = normal_ad(s4_resi)[1]\n",
        "round(p_s4_value[0],2)"
      ],
      "execution_count": 180,
      "outputs": [
        {
          "output_type": "execute_result",
          "data": {
            "text/plain": [
              "0.05"
            ]
          },
          "metadata": {},
          "execution_count": 180
        }
      ]
    },
    {
      "cell_type": "markdown",
      "metadata": {
        "id": "zywoFfaMa6ZC"
      },
      "source": [
        "Histograma:\n"
      ]
    },
    {
      "cell_type": "code",
      "metadata": {
        "colab": {
          "base_uri": "https://localhost:8080/",
          "height": 0
        },
        "id": "mr7Q179La6ZC",
        "outputId": "f335abfc-02a2-49a9-837b-e3fb5a99f56b"
      },
      "source": [
        "plt.hist(s4_resi)\n",
        "plt.title('Histograma dos resíduos da regressão')\n",
        "plt.show()"
      ],
      "execution_count": 181,
      "outputs": [
        {
          "output_type": "display_data",
          "data": {
            "image/png": "[encoded data removed]",
            "text/plain": [
              "<Figure size 432x288 with 1 Axes>"
            ]
          },
          "metadata": {
            "needs_background": "light"
          }
        }
      ]
    },
    {
      "cell_type": "markdown",
      "metadata": {
        "id": "79JQmYqda6ZC"
      },
      "source": [
        "Gráfico de resíduos"
      ]
    },
    {
      "cell_type": "code",
      "metadata": {
        "colab": {
          "base_uri": "https://localhost:8080/",
          "height": 0
        },
        "id": "GpkYH-lya6ZD",
        "outputId": "798072ff-f2f2-478c-fd67-24776b534727"
      },
      "source": [
        "plt.scatter(y=s4_resi, x=s4_pred, color='green', s=50, alpha=.6)\n",
        "plt.hlines(y=0, xmin=s4_pred.min(), xmax=s4_pred.max(), colors='orange')\n",
        "plt.ylabel('Resíduos')\n",
        "plt.xlabel('Predito')\n",
        "plt.title('Gráficos de resíduos')\n",
        "plt.show()"
      ],
      "execution_count": 182,
      "outputs": [
        {
          "output_type": "display_data",
          "data": {
            "image/png": "[encoded data removed]",
            "text/plain": [
              "<Figure size 432x288 with 1 Axes>"
            ]
          },
          "metadata": {
            "needs_background": "light"
          }
        }
      ]
    },
    {
      "cell_type": "markdown",
      "metadata": {
        "id": "HwzSs88UbJDz"
      },
      "source": [
        "### **Variável _s5_**"
      ]
    },
    {
      "cell_type": "markdown",
      "metadata": {
        "id": "LvlQPVh3bJDz"
      },
      "source": [
        "Obtenção dos dados da variável _age_:"
      ]
    },
    {
      "cell_type": "code",
      "metadata": {
        "id": "xAdIjayVbJD0"
      },
      "source": [
        "X_s5 = tabela['s5']\n",
        "X_s5_treinamento = X_s5[:-20].array.to_numpy().reshape(-1,1)\n",
        "X_s5_teste = X_s5[-20:].array.to_numpy().reshape(-1,1)"
      ],
      "execution_count": 183,
      "outputs": []
    },
    {
      "cell_type": "markdown",
      "metadata": {
        "id": "rmOSHeixbJD0"
      },
      "source": [
        "Instância e treinamento do modelo:"
      ]
    },
    {
      "cell_type": "code",
      "metadata": {
        "colab": {
          "base_uri": "https://localhost:8080/"
        },
        "id": "RcsKAhDjbJD0",
        "outputId": "977a0013-a47a-4d8f-8d85-c420796de8f3"
      },
      "source": [
        "s5_regr = linear_model.LinearRegression()\n",
        "s5_regr.fit(X_s5_treinamento, y_treinamento)"
      ],
      "execution_count": 184,
      "outputs": [
        {
          "output_type": "execute_result",
          "data": {
            "text/plain": [
              "LinearRegression(copy_X=True, fit_intercept=True, n_jobs=None, normalize=False)"
            ]
          },
          "metadata": {},
          "execution_count": 184
        }
      ]
    },
    {
      "cell_type": "markdown",
      "metadata": {
        "id": "8ji62AjabJD0"
      },
      "source": [
        "Predição do modelo:"
      ]
    },
    {
      "cell_type": "code",
      "metadata": {
        "id": "35Vd3GaBbJD0"
      },
      "source": [
        "s5_pred = s5_regr.predict(X_s5_teste)"
      ],
      "execution_count": 185,
      "outputs": []
    },
    {
      "cell_type": "markdown",
      "metadata": {
        "id": "d4suuW9gbJD1"
      },
      "source": [
        "Cálculo dos resíduos:"
      ]
    },
    {
      "cell_type": "code",
      "metadata": {
        "id": "E-wBX7r0bJD1"
      },
      "source": [
        "s5_resi = y_teste - s5_pred.reshape(-1,1)"
      ],
      "execution_count": 186,
      "outputs": []
    },
    {
      "cell_type": "markdown",
      "metadata": {
        "id": "x3sKKilMbJD1"
      },
      "source": [
        "R-score:"
      ]
    },
    {
      "cell_type": "code",
      "metadata": {
        "colab": {
          "base_uri": "https://localhost:8080/"
        },
        "id": "wDLvEXObbJD1",
        "outputId": "e6a21e03-1133-46c3-d3df-e9b512d19b57"
      },
      "source": [
        "s5_r2_score = r2_score(y_teste, s5_pred)\n",
        "print(s5_r2_score)"
      ],
      "execution_count": 187,
      "outputs": [
        {
          "output_type": "stream",
          "name": "stdout",
          "text": [
            "0.3948984231023219\n"
          ]
        }
      ]
    },
    {
      "cell_type": "markdown",
      "metadata": {
        "id": "Fgyo7v7LbJD1"
      },
      "source": [
        "p-value:"
      ]
    },
    {
      "cell_type": "code",
      "metadata": {
        "colab": {
          "base_uri": "https://localhost:8080/"
        },
        "id": "-KCo-XlebJD1",
        "outputId": "48ce22d0-e8d8-4ba0-d610-075931493751"
      },
      "source": [
        "p_s5_value = normal_ad(s5_resi)[1]\n",
        "round(p_s5_value[0],2)"
      ],
      "execution_count": 188,
      "outputs": [
        {
          "output_type": "execute_result",
          "data": {
            "text/plain": [
              "0.09"
            ]
          },
          "metadata": {},
          "execution_count": 188
        }
      ]
    },
    {
      "cell_type": "markdown",
      "metadata": {
        "id": "9LtLyhwBbJD2"
      },
      "source": [
        "Histograma:\n"
      ]
    },
    {
      "cell_type": "code",
      "metadata": {
        "colab": {
          "base_uri": "https://localhost:8080/",
          "height": 0
        },
        "id": "U8sT5jmEbJD2",
        "outputId": "0f63a187-9d52-43b4-a2d9-a0826961f474"
      },
      "source": [
        "plt.hist(s5_resi)\n",
        "plt.title('Histograma dos resíduos da regressão')\n",
        "plt.show()"
      ],
      "execution_count": 189,
      "outputs": [
        {
          "output_type": "display_data",
          "data": {
            "image/png": "[encoded data removed]",
            "text/plain": [
              "<Figure size 432x288 with 1 Axes>"
            ]
          },
          "metadata": {
            "needs_background": "light"
          }
        }
      ]
    },
    {
      "cell_type": "markdown",
      "metadata": {
        "id": "Os2MR5ELbJD2"
      },
      "source": [
        "Gráfico de resíduos"
      ]
    },
    {
      "cell_type": "code",
      "metadata": {
        "colab": {
          "base_uri": "https://localhost:8080/",
          "height": 0
        },
        "id": "qGHliPjLbJD2",
        "outputId": "9c5efd90-9895-4830-d237-890ebdb2416e"
      },
      "source": [
        "plt.scatter(y=s5_resi, x=s5_pred, color='green', s=50, alpha=.6)\n",
        "plt.hlines(y=0, xmin=s5_pred.min(), xmax=s5_pred.max(), colors='orange')\n",
        "plt.ylabel('Resíduos')\n",
        "plt.xlabel('Predito')\n",
        "plt.title('Gráficos de resíduos')\n",
        "plt.show()"
      ],
      "execution_count": 190,
      "outputs": [
        {
          "output_type": "display_data",
          "data": {
            "image/png": "[encoded data removed]",
            "text/plain": [
              "<Figure size 432x288 with 1 Axes>"
            ]
          },
          "metadata": {
            "needs_background": "light"
          }
        }
      ]
    },
    {
      "cell_type": "markdown",
      "metadata": {
        "id": "cfiZSP14bVDB"
      },
      "source": [
        "### **Variável _s6_**"
      ]
    },
    {
      "cell_type": "markdown",
      "metadata": {
        "id": "WUJawpBubVDC"
      },
      "source": [
        "Obtenção dos dados da variável _age_:"
      ]
    },
    {
      "cell_type": "code",
      "metadata": {
        "id": "1CNTLfGcbVDD"
      },
      "source": [
        "X_s6 = tabela['s6']\n",
        "X_s6_treinamento = X_s6[:-20].array.to_numpy().reshape(-1,1)\n",
        "X_s6_teste = X_s6[-20:].array.to_numpy().reshape(-1,1)"
      ],
      "execution_count": 191,
      "outputs": []
    },
    {
      "cell_type": "markdown",
      "metadata": {
        "id": "9JR62MfWbVDE"
      },
      "source": [
        "Instância e treinamento do modelo:"
      ]
    },
    {
      "cell_type": "code",
      "metadata": {
        "colab": {
          "base_uri": "https://localhost:8080/"
        },
        "id": "R_6QG1WcbVDE",
        "outputId": "20ea2142-810f-464c-e38b-a07a7c33c955"
      },
      "source": [
        "s6_regr = linear_model.LinearRegression()\n",
        "s6_regr.fit(X_s6_treinamento, y_treinamento)"
      ],
      "execution_count": 192,
      "outputs": [
        {
          "output_type": "execute_result",
          "data": {
            "text/plain": [
              "LinearRegression(copy_X=True, fit_intercept=True, n_jobs=None, normalize=False)"
            ]
          },
          "metadata": {},
          "execution_count": 192
        }
      ]
    },
    {
      "cell_type": "markdown",
      "metadata": {
        "id": "IblOnJcFbVDF"
      },
      "source": [
        "Predição do modelo:"
      ]
    },
    {
      "cell_type": "code",
      "metadata": {
        "id": "AMjmldOTbVDG"
      },
      "source": [
        "s6_pred = s6_regr.predict(X_s6_teste)"
      ],
      "execution_count": 193,
      "outputs": []
    },
    {
      "cell_type": "markdown",
      "metadata": {
        "id": "CZE6IGmqbVDH"
      },
      "source": [
        "Cálculo dos resíduos:"
      ]
    },
    {
      "cell_type": "code",
      "metadata": {
        "id": "jPy3UvsybVDH"
      },
      "source": [
        "s6_resi = y_teste - s6_pred.reshape(-1,1)"
      ],
      "execution_count": 194,
      "outputs": []
    },
    {
      "cell_type": "markdown",
      "metadata": {
        "id": "QuKFBTgKbVDI"
      },
      "source": [
        "R-score:"
      ]
    },
    {
      "cell_type": "code",
      "metadata": {
        "colab": {
          "base_uri": "https://localhost:8080/"
        },
        "id": "gUZBfgFLbVDJ",
        "outputId": "7d6ab7a0-5961-48d8-b247-bedcc002fdf3"
      },
      "source": [
        "s6_r2_score = r2_score(y_teste, s6_pred)\n",
        "print(s6_r2_score)"
      ],
      "execution_count": 195,
      "outputs": [
        {
          "output_type": "stream",
          "name": "stdout",
          "text": [
            "-0.08990371992812851\n"
          ]
        }
      ]
    },
    {
      "cell_type": "markdown",
      "metadata": {
        "id": "SPGkoCJpbVDJ"
      },
      "source": [
        "p-value:"
      ]
    },
    {
      "cell_type": "code",
      "metadata": {
        "colab": {
          "base_uri": "https://localhost:8080/"
        },
        "id": "D4LG1Q1CbVDK",
        "outputId": "3e09eee7-fcc0-40ac-a0f0-7689c59aa528"
      },
      "source": [
        "p_s6_value = normal_ad(s6_resi)[1]\n",
        "round(p_s6_value[0],2)"
      ],
      "execution_count": 196,
      "outputs": [
        {
          "output_type": "execute_result",
          "data": {
            "text/plain": [
              "0.04"
            ]
          },
          "metadata": {},
          "execution_count": 196
        }
      ]
    },
    {
      "cell_type": "markdown",
      "metadata": {
        "id": "Pbv8gjNRbVDL"
      },
      "source": [
        "Histograma:\n"
      ]
    },
    {
      "cell_type": "code",
      "metadata": {
        "colab": {
          "base_uri": "https://localhost:8080/",
          "height": 0
        },
        "id": "yUAfzks9bVDM",
        "outputId": "af89cbfa-01d2-41c9-bf58-a69fc65d598d"
      },
      "source": [
        "plt.hist(s6_resi)\n",
        "plt.title('Histograma dos resíduos da regressão')\n",
        "plt.show()"
      ],
      "execution_count": 197,
      "outputs": [
        {
          "output_type": "display_data",
          "data": {
            "image/png": "[encoded data removed]",
            "text/plain": [
              "<Figure size 432x288 with 1 Axes>"
            ]
          },
          "metadata": {
            "needs_background": "light"
          }
        }
      ]
    },
    {
      "cell_type": "markdown",
      "metadata": {
        "id": "NlGjXcKsbVDN"
      },
      "source": [
        "Gráfico de resíduos"
      ]
    },
    {
      "cell_type": "code",
      "metadata": {
        "colab": {
          "base_uri": "https://localhost:8080/",
          "height": 0
        },
        "id": "wiScYmAFbVDN",
        "outputId": "4ce3993d-efc6-4c54-b536-5d9fa10ae1cd"
      },
      "source": [
        "plt.scatter(y=s6_resi, x=s6_pred, color='green', s=50, alpha=.6)\n",
        "plt.hlines(y=0, xmin=s6_pred.min(), xmax=s6_pred.max(), colors='orange')\n",
        "plt.ylabel('Resíduos')\n",
        "plt.xlabel('Predito')\n",
        "plt.title('Gráficos de resíduos')\n",
        "plt.show()"
      ],
      "execution_count": 198,
      "outputs": [
        {
          "output_type": "display_data",
          "data": {
            "image/png": "[encoded data removed]",
            "text/plain": [
              "<Figure size 432x288 with 1 Axes>"
            ]
          },
          "metadata": {
            "needs_background": "light"
          }
        }
      ]
    },
    {
      "cell_type": "markdown",
      "metadata": {
        "id": "zyAg1CzOPr-5"
      },
      "source": [
        "### **Variável múltipla (bp & s1)**"
      ]
    },
    {
      "cell_type": "markdown",
      "metadata": {
        "id": "VZkrKfNqPr-6"
      },
      "source": [
        "Obtenção dos dados :"
      ]
    },
    {
      "cell_type": "code",
      "metadata": {
        "id": "Xh1JIf-7Pr-6"
      },
      "source": [
        "X_s1_bp = tabela.loc[:,'bp':'s1'] #Acessa as colunas bp e s1\n",
        "X_s1_bp_treinamento = X_s1_bp.head(X_s1_bp.shape[0] - 20) # Exclui os ultimos 20 dados\n",
        "X_s1_bp_teste = X_s1_bp.tail(20) # 20 dados de teste"
      ],
      "execution_count": 199,
      "outputs": []
    },
    {
      "cell_type": "markdown",
      "metadata": {
        "id": "gCslUp8SPr-7"
      },
      "source": [
        "Instância e treinamento do modelo:"
      ]
    },
    {
      "cell_type": "code",
      "metadata": {
        "colab": {
          "base_uri": "https://localhost:8080/"
        },
        "id": "sGeWkGOePr-8",
        "outputId": "a17a260e-550f-4eb1-9b96-b04f072f80ad"
      },
      "source": [
        "regr_s1_bp = linear_model.LinearRegression()\n",
        "regr_s1_bp.fit(X_s1_bp_treinamento, y_treinamento)"
      ],
      "execution_count": 200,
      "outputs": [
        {
          "output_type": "execute_result",
          "data": {
            "text/plain": [
              "LinearRegression(copy_X=True, fit_intercept=True, n_jobs=None, normalize=False)"
            ]
          },
          "metadata": {},
          "execution_count": 200
        }
      ]
    },
    {
      "cell_type": "markdown",
      "metadata": {
        "id": "55pPhs60Pr-9"
      },
      "source": [
        "Predição do modelo:"
      ]
    },
    {
      "cell_type": "code",
      "metadata": {
        "id": "DVC65KAZPr--"
      },
      "source": [
        "s1_bp_y_pred = regr_s1_bp.predict(X_s1_bp_teste)"
      ],
      "execution_count": 201,
      "outputs": []
    },
    {
      "cell_type": "markdown",
      "metadata": {
        "id": "4Hs9q52MPr--"
      },
      "source": [
        "Cálculo dos resíduos:"
      ]
    },
    {
      "cell_type": "code",
      "metadata": {
        "id": "Sqlg_B8gPr-_"
      },
      "source": [
        "s1_bp_resi = y_teste - s1_bp_y_pred.reshape(-1,1)"
      ],
      "execution_count": 202,
      "outputs": []
    },
    {
      "cell_type": "markdown",
      "metadata": {
        "id": "TJvm4TgPPr-_"
      },
      "source": [
        "R-score:"
      ]
    },
    {
      "cell_type": "code",
      "metadata": {
        "colab": {
          "base_uri": "https://localhost:8080/"
        },
        "id": "CvOGRczidUQV",
        "outputId": "24bf62fe-e648-47aa-f3ad-ece79afa20c3"
      },
      "source": [
        "s1_bp_r2_score = r2_score(y_teste, s1_bp_y_pred)\n",
        "print(s1_bp_r2_score)"
      ],
      "execution_count": 203,
      "outputs": [
        {
          "output_type": "stream",
          "name": "stdout",
          "text": [
            "0.15013553380567768\n"
          ]
        }
      ]
    },
    {
      "cell_type": "markdown",
      "metadata": {
        "id": "_m0KeDj8Pr_A"
      },
      "source": [
        "p-value:"
      ]
    },
    {
      "cell_type": "code",
      "metadata": {
        "colab": {
          "base_uri": "https://localhost:8080/"
        },
        "id": "1-XG0e7Uda3M",
        "outputId": "a9f05a80-0ca1-423d-99b1-6439b8c5a41c"
      },
      "source": [
        "p_s1_bp_value = normal_ad(s1_bp_resi)[1]\n",
        "round(p_s1_bp_value[0],2)"
      ],
      "execution_count": 204,
      "outputs": [
        {
          "output_type": "execute_result",
          "data": {
            "text/plain": [
              "0.09"
            ]
          },
          "metadata": {},
          "execution_count": 204
        }
      ]
    },
    {
      "cell_type": "markdown",
      "metadata": {
        "id": "STzFiCt1Pr_B"
      },
      "source": [
        "Histograma:\n"
      ]
    },
    {
      "cell_type": "code",
      "metadata": {
        "colab": {
          "base_uri": "https://localhost:8080/",
          "height": 0
        },
        "id": "TJSZ_1STdg1u",
        "outputId": "7ee6dc48-3c52-4217-9489-54db6fd27760"
      },
      "source": [
        "plt.hist(s1_bp_resi)\n",
        "plt.title('Histograma dos resíduos da regressão')\n",
        "plt.show()"
      ],
      "execution_count": 205,
      "outputs": [
        {
          "output_type": "display_data",
          "data": {
            "image/png": "[encoded data removed]",
            "text/plain": [
              "<Figure size 432x288 with 1 Axes>"
            ]
          },
          "metadata": {
            "needs_background": "light"
          }
        }
      ]
    },
    {
      "cell_type": "markdown",
      "metadata": {
        "id": "TO7g6aEPPr_B"
      },
      "source": [
        "Gráfico de resíduos"
      ]
    },
    {
      "cell_type": "code",
      "metadata": {
        "colab": {
          "base_uri": "https://localhost:8080/",
          "height": 0
        },
        "id": "4k09HfGcPr_C",
        "outputId": "123c294b-f85a-4c57-b2af-2cb5bc373563"
      },
      "source": [
        "plt.scatter(y=s6_resi, x=s6_pred, color='green', s=50, alpha=.6)\n",
        "plt.hlines(y=0, xmin=s6_pred.min(), xmax=s6_pred.max(), colors='orange')\n",
        "plt.ylabel('Resíduos')\n",
        "plt.xlabel('Predito')\n",
        "plt.title('Gráficos de resíduos')\n",
        "plt.show()"
      ],
      "execution_count": 206,
      "outputs": [
        {
          "output_type": "display_data",
          "data": {
            "image/png": "[encoded data removed]",
            "text/plain": [
              "<Figure size 432x288 with 1 Axes>"
            ]
          },
          "metadata": {
            "needs_background": "light"
          }
        }
      ]
    },
    {
      "cell_type": "markdown",
      "metadata": {
        "id": "UHlliJE10qJ1"
      },
      "source": [
        "### Comparação dos resultados"
      ]
    },
    {
      "cell_type": "markdown",
      "metadata": {
        "id": "l7HQXGLx1EtZ"
      },
      "source": [
        "#### p-value"
      ]
    },
    {
      "cell_type": "code",
      "metadata": {
        "colab": {
          "base_uri": "https://localhost:8080/"
        },
        "id": "ViUk7zbf0x8l",
        "outputId": "4bfc55bb-f906-425f-acfa-566b16c3bb03"
      },
      "source": [
        "p_value_data = [['age',p_age_value],\n",
        "        ['sex', p_sex_value],\n",
        "        ['bmi', p_bmi_value],\n",
        "        ['bp', p_bp_value],\n",
        "        ['s1', p_s1_value],\n",
        "        ['s2', p_s2_value],\n",
        "        ['s3', p_s3_value],\n",
        "        ['s4', p_s4_value],\n",
        "        ['s5', p_s5_value],\n",
        "        ['s6', p_s6_value],\n",
        "        ['bp & s1', p_s1_bp_value]]\n",
        "print(tabulate(p_value_data, headers=[\"Variável\", \"P-Value\"]))"
      ],
      "execution_count": 207,
      "outputs": [
        {
          "output_type": "stream",
          "name": "stdout",
          "text": [
            "Variável      P-Value\n",
            "----------  ---------\n",
            "age         0.0411203\n",
            "sex         0.051426\n",
            "bmi         0.511863\n",
            "bp          0.183031\n",
            "s1          0.113332\n",
            "s2          0.0246844\n",
            "s3          0.317384\n",
            "s4          0.0508825\n",
            "s5          0.0877216\n",
            "s6          0.0367798\n",
            "bp & s1     0.0902657\n"
          ]
        }
      ]
    },
    {
      "cell_type": "markdown",
      "metadata": {
        "id": "C8Zt4ohz2-vW"
      },
      "source": [
        "#### R² Score"
      ]
    },
    {
      "cell_type": "code",
      "metadata": {
        "colab": {
          "base_uri": "https://localhost:8080/"
        },
        "id": "yPW-ujSo7hS3",
        "outputId": "e73e00f9-56cc-4091-96f9-3e2983c1c109"
      },
      "source": [
        "r_score_data = [['age',age_r2_score],\n",
        "        ['sex', sex_r2_score],\n",
        "        ['bmi', bmi_r2_score],\n",
        "        ['bp', bp_r2_score],\n",
        "        ['s1', s1_r2_score],\n",
        "        ['s2', s2_r2_score],\n",
        "        ['s3', s3_r2_score],\n",
        "        ['s4', s4_r2_score],\n",
        "        ['s5', s5_r2_score],\n",
        "        ['s6', s6_r2_score],\n",
        "        ['bp & s1', s1_bp_r2_score]]\n",
        "print(tabulate(r_score_data, headers=[\"Variável\", \"R² Score\"]))"
      ],
      "execution_count": 208,
      "outputs": [
        {
          "output_type": "stream",
          "name": "stdout",
          "text": [
            "Variável       R² Score\n",
            "----------  -----------\n",
            "age         -0.132702\n",
            "sex         -0.138838\n",
            "bmi          0.472575\n",
            "bp           0.159951\n",
            "s1          -0.160942\n",
            "s2          -0.151719\n",
            "s3           0.0606106\n",
            "s4          -0.00407034\n",
            "s5           0.394898\n",
            "s6          -0.0899037\n",
            "bp & s1      0.150136\n"
          ]
        }
      ]
    },
    {
      "cell_type": "markdown",
      "metadata": {
        "id": "CNymYJsB8f64"
      },
      "source": [
        "#### Histograma"
      ]
    },
    {
      "cell_type": "code",
      "metadata": {
        "colab": {
          "base_uri": "https://localhost:8080/",
          "height": 0
        },
        "id": "A_wGJIvl8iLo",
        "outputId": "5eccf205-1d4e-4c72-fee4-6f936ec1865a"
      },
      "source": [
        "print(\"========================================================\")\n",
        "\n",
        "plt.hist(age_resi)\n",
        "plt.title('Histogrmaa dos resíduos da regressão da variável AGE')\n",
        "plt.show()\n",
        "\n",
        "print(\"========================================================\")\n",
        "\n",
        "plt.hist(sex_resi)\n",
        "plt.title('Histograma dos resíduos da regressão da variável SEX')\n",
        "plt.show()\n",
        "\n",
        "print(\"========================================================\")\n",
        "\n",
        "plt.hist(bmi_resi)\n",
        "plt.title('Histograma dos resíduos da regressão da variável BMI')\n",
        "plt.show()\n",
        "\n",
        "print(\"========================================================\")\n",
        "\n",
        "plt.hist(bp_resi)\n",
        "plt.title('Histograma dos resíduos da regressão da variável BMI')\n",
        "plt.show()\n",
        "\n",
        "print(\"========================================================\")\n",
        "\n",
        "plt.hist(s1_resi)\n",
        "plt.title('Histograma dos resíduos da regressão da variável s1')\n",
        "plt.show()\n",
        "\n",
        "print(\"========================================================\")\n",
        "\n",
        "plt.hist(s2_resi)\n",
        "plt.title('Histograma dos resíduos da regressão da variável s2')\n",
        "plt.show()\n",
        "\n",
        "print(\"========================================================\")\n",
        "\n",
        "plt.hist(s3_resi)\n",
        "plt.title('Histograma dos resíduos da regressão da variável s3')\n",
        "plt.show()\n",
        "\n",
        "print(\"========================================================\")\n",
        "\n",
        "plt.hist(s4_resi)\n",
        "plt.title('Histograma dos resíduos da regressão da variável s4')\n",
        "plt.show()\n",
        "\n",
        "print(\"========================================================\")\n",
        "\n",
        "plt.hist(s5_resi)\n",
        "plt.title('Histograma dos resíduos da regressão da variável s5')\n",
        "plt.show()\n",
        "\n",
        "print(\"========================================================\")\n",
        "\n",
        "plt.hist(s6_resi)\n",
        "plt.title('Histograma dos resíduos da regressão da variável s6')\n",
        "plt.show()\n",
        "\n",
        "print(\"========================================================\")\n",
        "\n",
        "plt.hist(s1_bp_resi)\n",
        "plt.title('Histograma dos resíduos da regressão das variáveis s1 & bp')\n",
        "plt.show()\n",
        "\n",
        "print(\"========================================================\")"
      ],
      "execution_count": 209,
      "outputs": [
        {
          "output_type": "stream",
          "name": "stdout",
          "text": [
            "========================================================\n"
          ]
        },
        {
          "output_type": "display_data",
          "data": {
            "image/png": "[encoded data removed]",
            "text/plain": [
              "<Figure size 432x288 with 1 Axes>"
            ]
          },
          "metadata": {
            "needs_background": "light"
          }
        },
        {
          "output_type": "stream",
          "name": "stdout",
          "text": [
            "========================================================\n"
          ]
        },
        {
          "output_type": "display_data",
          "data": {
            "image/png": "[encoded data removed]",
            "text/plain": [
              "<Figure size 432x288 with 1 Axes>"
            ]
          },
          "metadata": {
            "needs_background": "light"
          }
        },
        {
          "output_type": "stream",
          "name": "stdout",
          "text": [
            "========================================================\n"
          ]
        },
        {
          "output_type": "display_data",
          "data": {
            "image/png": "[encoded data removed]",
            "text/plain": [
              "<Figure size 432x288 with 1 Axes>"
            ]
          },
          "metadata": {
            "needs_background": "light"
          }
        },
        {
          "output_type": "stream",
          "name": "stdout",
          "text": [
            "========================================================\n"
          ]
        },
        {
          "output_type": "display_data",
          "data": {
            "image/png": "[encoded data removed]",
            "text/plain": [
              "<Figure size 432x288 with 1 Axes>"
            ]
          },
          "metadata": {
            "needs_background": "light"
          }
        },
        {
          "output_type": "stream",
          "name": "stdout",
          "text": [
            "========================================================\n"
          ]
        },
        {
          "output_type": "display_data",
          "data": {
            "image/png": "[encoded data removed]",
            "text/plain": [
              "<Figure size 432x288 with 1 Axes>"
            ]
          },
          "metadata": {
            "needs_background": "light"
          }
        },
        {
          "output_type": "stream",
          "name": "stdout",
          "text": [
            "========================================================\n"
          ]
        },
        {
          "output_type": "display_data",
          "data": {
            "image/png": "[encoded data removed]",
            "text/plain": [
              "<Figure size 432x288 with 1 Axes>"
            ]
          },
          "metadata": {
            "needs_background": "light"
          }
        },
        {
          "output_type": "stream",
          "name": "stdout",
          "text": [
            "========================================================\n"
          ]
        },
        {
          "output_type": "display_data",
          "data": {
            "image/png": "[encoded data removed]",
            "text/plain": [
              "<Figure size 432x288 with 1 Axes>"
            ]
          },
          "metadata": {
            "needs_background": "light"
          }
        },
        {
          "output_type": "stream",
          "name": "stdout",
          "text": [
            "========================================================\n"
          ]
        },
        {
          "output_type": "display_data",
          "data": {
            "image/png": "[encoded data removed]",
            "text/plain": [
              "<Figure size 432x288 with 1 Axes>"
            ]
          },
          "metadata": {
            "needs_background": "light"
          }
        },
        {
          "output_type": "stream",
          "name": "stdout",
          "text": [
            "========================================================\n"
          ]
        },
        {
          "output_type": "display_data",
          "data": {
            "image/png": "[encoded data removed]",
            "text/plain": [
              "<Figure size 432x288 with 1 Axes>"
            ]
          },
          "metadata": {
            "needs_background": "light"
          }
        },
        {
          "output_type": "stream",
          "name": "stdout",
          "text": [
            "========================================================\n"
          ]
        },
        {
          "output_type": "display_data",
          "data": {
            "image/png": "[encoded data removed]",
            "text/plain": [
              "<Figure size 432x288 with 1 Axes>"
            ]
          },
          "metadata": {
            "needs_background": "light"
          }
        },
        {
          "output_type": "stream",
          "name": "stdout",
          "text": [
            "========================================================\n"
          ]
        },
        {
          "output_type": "display_data",
          "data": {
            "image/png": "[encoded data removed]",
            "text/plain": [
              "<Figure size 432x288 with 1 Axes>"
            ]
          },
          "metadata": {
            "needs_background": "light"
          }
        },
        {
          "output_type": "stream",
          "name": "stdout",
          "text": [
            "========================================================\n"
          ]
        }
      ]
    },
    {
      "cell_type": "markdown",
      "metadata": {
        "id": "DYbQG4UF5sHh"
      },
      "source": [
        "#### Gráfico "
      ]
    },
    {
      "cell_type": "code",
      "metadata": {
        "colab": {
          "base_uri": "https://localhost:8080/",
          "height": 0
        },
        "id": "bDO_vN2H50q8",
        "outputId": "3b517fce-85ca-44ff-85e0-83300e3a398c"
      },
      "source": [
        "plt.scatter(y=age_resi, x=age_pred, color='green', s=50, alpha=.6)\n",
        "plt.hlines(y=0, xmin=age_pred.min(), xmax=age_pred.max(), colors='orange')\n",
        "plt.ylabel('Resíduos')\n",
        "plt.xlabel('Predito')\n",
        "plt.title('Gráficos de resíduos da variável AGE')\n",
        "plt.show()\n",
        "\n",
        "plt.scatter(y=sex_resi, x=sex_pred, color='green', s=50, alpha=.6)\n",
        "plt.hlines(y=0, xmin=sex_pred.min(), xmax=sex_pred.max(), colors='orange')\n",
        "plt.ylabel('Resíduos')\n",
        "plt.xlabel('Predito')\n",
        "plt.title('Gráficos de resíduos da variável SEX')\n",
        "plt.show()\n",
        "\n",
        "plt.scatter(y=bmi_resi, x=bmi_pred, color='green', s=50, alpha=.6)\n",
        "plt.hlines(y=0, xmin=bmi_pred.min(), xmax=bmi_pred.max(), colors='orange')\n",
        "plt.ylabel('Resíduos')\n",
        "plt.xlabel('Predito')\n",
        "plt.title('Gráficos de resíduos da variável BMI')\n",
        "plt.show()\n",
        "\n",
        "plt.scatter(y=bp_resi, x=bp_pred, color='green', s=50, alpha=.6)\n",
        "plt.hlines(y=0, xmin=bp_pred.min(), xmax=bp_pred.max(), colors='orange')\n",
        "plt.ylabel('Resíduos')\n",
        "plt.xlabel('Predito')\n",
        "plt.title('Gráficos de resíduos da variável BP')\n",
        "plt.show()\n",
        "\n",
        "plt.scatter(y=s1_resi, x=s1_pred, color='green', s=50, alpha=.6)\n",
        "plt.hlines(y=0, xmin=s1_pred.min(), xmax=s1_pred.max(), colors='orange')\n",
        "plt.ylabel('Resíduos')\n",
        "plt.xlabel('Predito')\n",
        "plt.title('Gráficos de resíduos da variável S1')\n",
        "plt.show()\n",
        "\n",
        "plt.scatter(y=s2_resi, x=s2_pred, color='green', s=50, alpha=.6)\n",
        "plt.hlines(y=0, xmin=s2_pred.min(), xmax=s2_pred.max(), colors='orange')\n",
        "plt.ylabel('Resíduos')\n",
        "plt.xlabel('Predito')\n",
        "plt.title('Gráficos de resíduos da variável S2')\n",
        "plt.show()\n",
        "\n",
        "plt.scatter(y=s3_resi, x=s3_pred, color='green', s=50, alpha=.6)\n",
        "plt.hlines(y=0, xmin=s3_pred.min(), xmax=s3_pred.max(), colors='orange')\n",
        "plt.ylabel('Resíduos')\n",
        "plt.xlabel('Predito')\n",
        "plt.title('Gráficos de resíduos da variável S3')\n",
        "plt.show()\n",
        "\n",
        "plt.scatter(y=s4_resi, x=s4_pred, color='green', s=50, alpha=.6)\n",
        "plt.hlines(y=0, xmin=s4_pred.min(), xmax=s4_pred.max(), colors='orange')\n",
        "plt.ylabel('Resíduos')\n",
        "plt.xlabel('Predito')\n",
        "plt.title('Gráficos de resíduos da variável S4')\n",
        "plt.show()\n",
        "\n",
        "plt.scatter(y=s5_resi, x=s5_pred, color='green', s=50, alpha=.6)\n",
        "plt.hlines(y=0, xmin=s5_pred.min(), xmax=s5_pred.max(), colors='orange')\n",
        "plt.ylabel('Resíduos')\n",
        "plt.xlabel('Predito')\n",
        "plt.title('Gráficos de resíduos da variável S5')\n",
        "plt.show()\n",
        "\n",
        "plt.scatter(y=s6_resi, x=s6_pred, color='green', s=50, alpha=.6)\n",
        "plt.hlines(y=0, xmin=s6_pred.min(), xmax=s6_pred.max(), colors='orange')\n",
        "plt.ylabel('Resíduos')\n",
        "plt.xlabel('Predito')\n",
        "plt.title('Gráficos de resíduos da variável S6')\n",
        "plt.show()\n",
        "\n",
        "plt.scatter(y=s1_bp_resi, x=s1_bp_y_pred, color='green', s=50, alpha=.6)\n",
        "plt.hlines(y=0, xmin=s1_bp_y_pred.min(), xmax=s1_bp_y_pred.max(), colors='orange')\n",
        "plt.ylabel('Resíduos')\n",
        "plt.xlabel('Predito')\n",
        "plt.title('Gráficos de resíduos das variáveis S1 & BP ')\n",
        "plt.show()"
      ],
      "execution_count": 210,
      "outputs": [
        {
          "output_type": "display_data",
          "data": {
            "image/png": "[encoded data removed]",
            "text/plain": [
              "<Figure size 432x288 with 1 Axes>"
            ]
          },
          "metadata": {
            "needs_background": "light"
          }
        },
        {
          "output_type": "display_data",
          "data": {
            "image/png": "[encoded data removed]",
            "text/plain": [
              "<Figure size 432x288 with 1 Axes>"
            ]
          },
          "metadata": {
            "needs_background": "light"
          }
        },
        {
          "output_type": "display_data",
          "data": {
            "image/png": "[encoded data removed]",
            "text/plain": [
              "<Figure size 432x288 with 1 Axes>"
            ]
          },
          "metadata": {
            "needs_background": "light"
          }
        },
        {
          "output_type": "display_data",
          "data": {
            "image/png": "[encoded data removed]",
            "text/plain": [
              "<Figure size 432x288 with 1 Axes>"
            ]
          },
          "metadata": {
            "needs_background": "light"
          }
        },
        {
          "output_type": "display_data",
          "data": {
            "image/png": "[encoded data removed]",
            "text/plain": [
              "<Figure size 432x288 with 1 Axes>"
            ]
          },
          "metadata": {
            "needs_background": "light"
          }
        },
        {
          "output_type": "display_data",
          "data": {
            "image/png": "[encoded data removed]",
            "text/plain": [
              "<Figure size 432x288 with 1 Axes>"
            ]
          },
          "metadata": {
            "needs_background": "light"
          }
        },
        {
          "output_type": "display_data",
          "data": {
            "image/png": "[encoded data removed]",
            "text/plain": [
              "<Figure size 432x288 with 1 Axes>"
            ]
          },
          "metadata": {
            "needs_background": "light"
          }
        },
        {
          "output_type": "display_data",
          "data": {
            "image/png": "[encoded data removed]",
            "text/plain": [
              "<Figure size 432x288 with 1 Axes>"
            ]
          },
          "metadata": {
            "needs_background": "light"
          }
        },
        {
          "output_type": "display_data",
          "data": {
            "image/png": "[encoded data removed]",
            "text/plain": [
              "<Figure size 432x288 with 1 Axes>"
            ]
          },
          "metadata": {
            "needs_background": "light"
          }
        },
        {
          "output_type": "display_data",
          "data": {
            "image/png": "[encoded data removed]",
            "text/plain": [
              "<Figure size 432x288 with 1 Axes>"
            ]
          },
          "metadata": {
            "needs_background": "light"
          }
        },
        {
          "output_type": "display_data",
          "data": {
            "image/png": "[encoded data removed]",
            "text/plain": [
              "<Figure size 432x288 with 1 Axes>"
            ]
          },
          "metadata": {
            "needs_background": "light"
          }
        }
      ]
    }
  ]
}